{
 "cells": [
  {
   "cell_type": "code",
   "execution_count": 51,
   "metadata": {},
   "outputs": [],
   "source": [
    "\"\"\"Ceci est un fichier de test contenant toutes les fonctions que je trouve pour débuter\"\"\"\n",
    "#Importer les commandes utiles\n",
    "\n",
    "import os\n",
    "import os.path\n",
    "\n",
    "from os import chdir\n",
    "\n",
    "import sys, h5py, binascii\n",
    "import numpy as np\n",
    "import matplotlib.pyplot as plt\n",
    "from pylab import * #Bibliothèque de fonctions qui ressemblent à matlab pour le calcul matriciel\n",
    "\n",
    "from scipy.interpolate import griddata\n",
    "from scipy.signal import medfilt2d, order_filter\n",
    "\n",
    "#Définir les chemins qui nous interessent\n",
    "\n",
    "path_SV=\"/home/chouze/Kriterres/Codes-Simon-Vedrine-2016\"\n",
    "\n",
    "path_CH=\"/home/chouze/Kriterres/TESTS_CLEM\"\n",
    "\n",
    "path_O=\"~/Codes/Porchet-new/TCHERNO/FORWARD_CLEM/SWMS_2D.OUT\"\n",
    "\n",
    "path_I=\"home/chouze/Codes/Porchet-new/TCHERNO/FORWARD_CLEM/SWMS_2D.IN/\"\n",
    "\n",
    "#Importer les fonctions créees par Simon Vedrine\n",
    "\n",
    "chdir(path_SV)\n",
    "\n",
    "from utils import *\n",
    "from processing_tools import *\n",
    "\n",
    "#Ouvrir un fichier de données de type ascii\n",
    "\n",
    "chdir(path_CH)\n",
    "\n",
    "data=open(\"example_radargram.dat\")\n",
    "contenu=data.read()\n",
    "dx,dt = (0.00667, 0.008031) #Definition des pas de temps et pas d'espace\n",
    "title=\"plot\"\n",
    "\n",
    "#Autre moyen pour ouvrir un fichier de type matrice\n",
    "M=np.loadtxt('example_radargram.dat')\n",
    "type(M) #Donne le type de variable\n",
    "M=M.T #On prend la transposée de M colonnes=traces/lignes=data\n"
   ]
  },
  {
   "cell_type": "code",
   "execution_count": 57,
   "metadata": {},
   "outputs": [
    {
     "name": "stdout",
     "output_type": "stream",
     "text": [
      "~/Codes/Porchet-new/TCHERNO/FORWARD_CLEM/SWMS_2D.OUT\n",
      "8\n"
     ]
    },
    {
     "data": {
      "text/plain": [
       "float"
      ]
     },
     "execution_count": 57,
     "metadata": {},
     "output_type": "execute_result"
    }
   ],
   "source": [
    "print(path_O) #Commande qui permet d'afficher une sortie, par exemple un résultat\n",
    "\n",
    "a,b=8,3.5 #On peut affecter paralèllement plusieurs variables sur une seule ligne, séparé par des virgules\n",
    "print(a)\n",
    "type(b)#Dès qu'il trouve une virgule il considère le nombre comme un float"
   ]
  },
  {
   "cell_type": "code",
   "execution_count": 112,
   "metadata": {
    "scrolled": true
   },
   "outputs": [
    {
     "name": "stdout",
     "output_type": "stream",
     "text": [
      "3113\n",
      "37\n",
      "-0.00078124803258\n"
     ]
    }
   ],
   "source": [
    "M[2,2] #Ceci correspond à la valeur contenue en 2,2 dans M\n",
    "l,c=shape(M) #Donne la taille de la matrice M\n",
    "print(l)\n",
    "print(c)\n",
    "print(M[2,2])"
   ]
  },
  {
   "cell_type": "code",
   "execution_count": 48,
   "metadata": {},
   "outputs": [
    {
     "data": {
      "image/png": "[encoded data removed]",
      "text/plain": [
       "<matplotlib.figure.Figure at 0x7efe3890b978>"
      ]
     },
     "metadata": {},
     "output_type": "display_data"
    }
   ],
   "source": [
    "plt.plot([1,2,3,4], [1,4,9,16], 'ro') #Exemple pour afficher un graphe de points rouges\n",
    "plt.axis([0, 6, 0, 20]) #Donner les bornes du graphe\n",
    "plt.show() #Demande d'afficher le graphique"
   ]
  },
  {
   "cell_type": "code",
   "execution_count": 30,
   "metadata": {},
   "outputs": [
    {
     "data": {
      "text/plain": [
       "array([[  0.00000000e+00,  -2.16818508e-03,  -7.81248033e-04, ...,\n",
       "         -5.35320473e+00,  -4.91742659e+00,  -4.48644495e+00],\n",
       "       [  0.00000000e+00,  -2.16818508e-03,  -7.81248033e-04, ...,\n",
       "         -4.11582321e-01,  -1.58844680e-01,   8.07534829e-02],\n",
       "       [  0.00000000e+00,  -2.16818508e-03,  -7.81248033e-04, ...,\n",
       "          1.74482632e+00,   1.80088699e+00,   1.84540737e+00],\n",
       "       ..., \n",
       "       [  0.00000000e+00,  -2.16818508e-03,  -7.81248033e-04, ...,\n",
       "          1.49095941e+00,   1.48235476e+00,   1.46571434e+00],\n",
       "       [  0.00000000e+00,  -2.16818508e-03,  -7.81248033e-04, ...,\n",
       "          3.54501218e-01,   2.42831126e-01,   1.33029491e-01],\n",
       "       [  0.00000000e+00,  -2.16818508e-03,  -7.81248033e-04, ...,\n",
       "         -4.37180424e-04,  -5.52502577e-04,  -6.70919369e-04]])"
      ]
     },
     "execution_count": 30,
     "metadata": {},
     "output_type": "execute_result"
    }
   ],
   "source": [
    "M"
   ]
  },
  {
   "cell_type": "code",
   "execution_count": 103,
   "metadata": {},
   "outputs": [],
   "source": [
    "T=[] #Une boucle pour créer un vecteur T contenant les temps\n",
    "for i in range(0,l,1):#Attention de vérifier si l'on commencer à 0 ou à dt pour la première valeur\n",
    "        T.append(i*dt)"
   ]
  },
  {
   "cell_type": "code",
   "execution_count": 95,
   "metadata": {},
   "outputs": [
    {
     "data": {
      "text/plain": [
       "float"
      ]
     },
     "execution_count": 95,
     "metadata": {},
     "output_type": "execute_result"
    }
   ],
   "source": [
    "type(dt)"
   ]
  },
  {
   "cell_type": "code",
   "execution_count": 76,
   "metadata": {},
   "outputs": [
    {
     "ename": "ValueError",
     "evalue": "invalid literal for int() with base 10: '0.0000000000e+00'",
     "output_type": "error",
     "traceback": [
      "\u001b[0;31m---------------------------------------------------------------------------\u001b[0m",
      "\u001b[0;31mValueError\u001b[0m                                Traceback (most recent call last)",
      "\u001b[0;32m<ipython-input-76-7ecbf1e9e322>\u001b[0m in \u001b[0;36m<module>\u001b[0;34m()\u001b[0m\n\u001b[0;32m----> 1\u001b[0;31m \u001b[0mread_ascii\u001b[0m\u001b[0;34m(\u001b[0m\u001b[0;34m'example_radargram.dat'\u001b[0m\u001b[0;34m)\u001b[0m\u001b[0;34m\u001b[0m\u001b[0m\n\u001b[0m",
      "\u001b[0;32m~/Kriterres/Codes-Simon-Vedrine-2016/utils.py\u001b[0m in \u001b[0;36mread_ascii\u001b[0;34m(filename)\u001b[0m\n\u001b[1;32m     45\u001b[0m         \u001b[0mdata\u001b[0m \u001b[0;34m=\u001b[0m \u001b[0;34m[\u001b[0m\u001b[0;34m]\u001b[0m\u001b[0;34m\u001b[0m\u001b[0m\n\u001b[1;32m     46\u001b[0m         \u001b[0;32mfor\u001b[0m \u001b[0mtrace\u001b[0m \u001b[0;32min\u001b[0m \u001b[0mrange\u001b[0m\u001b[0;34m(\u001b[0m\u001b[0mtraces\u001b[0m\u001b[0;34m)\u001b[0m\u001b[0;34m:\u001b[0m\u001b[0;34m\u001b[0m\u001b[0m\n\u001b[0;32m---> 47\u001b[0;31m                 \u001b[0mdata\u001b[0m\u001b[0;34m.\u001b[0m\u001b[0mappend\u001b[0m\u001b[0;34m(\u001b[0m\u001b[0mlist\u001b[0m\u001b[0;34m(\u001b[0m\u001b[0mmap\u001b[0m\u001b[0;34m(\u001b[0m\u001b[0mint\u001b[0m\u001b[0;34m,\u001b[0m \u001b[0mmylist\u001b[0m\u001b[0;34m[\u001b[0m\u001b[0mtrace\u001b[0m\u001b[0;34m]\u001b[0m\u001b[0;34m.\u001b[0m\u001b[0msplit\u001b[0m\u001b[0;34m(\u001b[0m\u001b[0;34m)\u001b[0m\u001b[0;34m)\u001b[0m\u001b[0;34m)\u001b[0m\u001b[0;34m)\u001b[0m\u001b[0;34m\u001b[0m\u001b[0m\n\u001b[0m\u001b[1;32m     48\u001b[0m         \u001b[0mf\u001b[0m\u001b[0;34m.\u001b[0m\u001b[0mclose\u001b[0m\u001b[0;34m(\u001b[0m\u001b[0;34m)\u001b[0m\u001b[0;34m\u001b[0m\u001b[0m\n\u001b[1;32m     49\u001b[0m \u001b[0;34m\u001b[0m\u001b[0m\n",
      "\u001b[0;31mValueError\u001b[0m: invalid literal for int() with base 10: '0.0000000000e+00'"
     ]
    }
   ],
   "source": [
    "read_ascii('example_radargram.dat')"
   ]
  },
  {
   "cell_type": "code",
   "execution_count": 79,
   "metadata": {
    "collapsed": true
   },
   "outputs": [],
   "source": [
    "T=np.zeros(l) #On crée une matrice de zéros de la taille de M"
   ]
  },
  {
   "cell_type": "code",
   "execution_count": 105,
   "metadata": {},
   "outputs": [
    {
     "name": "stdout",
     "output_type": "stream",
     "text": [
      "24.992472\n"
     ]
    }
   ],
   "source": [
    "print(max(T)) #On peut afficher le max/min de T"
   ]
  },
  {
   "cell_type": "code",
   "execution_count": 100,
   "metadata": {},
   "outputs": [
    {
     "ename": "FileNotFoundError",
     "evalue": "[Errno 2] No such file or directory: '~/Codes/Porchet-new/TCHERNO/FORWARD_CLEM/SWMS_2D.OUT'",
     "output_type": "error",
     "traceback": [
      "\u001b[0;31m---------------------------------------------------------------------------\u001b[0m",
      "\u001b[0;31mFileNotFoundError\u001b[0m                         Traceback (most recent call last)",
      "\u001b[0;32m<ipython-input-100-ef526462aaa0>\u001b[0m in \u001b[0;36m<module>\u001b[0;34m()\u001b[0m\n\u001b[0;32m----> 1\u001b[0;31m \u001b[0mchdir\u001b[0m\u001b[0;34m(\u001b[0m\u001b[0mpath_O\u001b[0m\u001b[0;34m)\u001b[0m\u001b[0;34m\u001b[0m\u001b[0m\n\u001b[0m\u001b[1;32m      2\u001b[0m \u001b[0mread_ascii\u001b[0m\u001b[0;34m(\u001b[0m\u001b[0;34m''\u001b[0m\u001b[0;34m)\u001b[0m\u001b[0;34m\u001b[0m\u001b[0m\n",
      "\u001b[0;31mFileNotFoundError\u001b[0m: [Errno 2] No such file or directory: '~/Codes/Porchet-new/TCHERNO/FORWARD_CLEM/SWMS_2D.OUT'"
     ]
    }
   ],
   "source": [
    "chdir(path_O)\n",
    "read_ascii('')\n"
   ]
  },
  {
   "cell_type": "code",
   "execution_count": 110,
   "metadata": {},
   "outputs": [
    {
     "data": {
      "text/plain": [
       "numpy.float64"
      ]
     },
     "execution_count": 110,
     "metadata": {},
     "output_type": "execute_result"
    }
   ],
   "source": [
    "type(M[2,2])"
   ]
  },
  {
   "cell_type": "code",
   "execution_count": 115,
   "metadata": {},
   "outputs": [
    {
     "data": {
      "image/png": "[encoded data removed]",
      "text/plain": [
       "<matplotlib.figure.Figure at 0x7efe3868f710>"
      ]
     },
     "metadata": {},
     "output_type": "display_data"
    }
   ],
   "source": [
    "plt.plot(M[:,5],T, 'r') #On trace une trace au pif pour voir si ça marche\n",
    "plt.show()"
   ]
  },
  {
   "cell_type": "code",
   "execution_count": 117,
   "metadata": {},
   "outputs": [
    {
     "data": {
      "image/png": "[encoded data removed]",
      "text/plain": [
       "<matplotlib.figure.Figure at 0x7efe38778b70>"
      ]
     },
     "metadata": {},
     "output_type": "display_data"
    }
   ],
   "source": [
    "#On cherche à plotter le radargramme\n",
    "\n",
    "#On commence par retirer la première trace pour y voir plus clair\n",
    "for n in range(1,c-1):\n",
    "    M[:,n]=M[:,n]-M[:,1]\n",
    "    \n",
    "plt.plot(M[:,5],T, 'r') #On trace une trace au pif pour voir si ça marche\n",
    "plt.show()"
   ]
  },
  {
   "cell_type": "code",
   "execution_count": null,
   "metadata": {
    "collapsed": true
   },
   "outputs": [],
   "source": []
  }
 ],
 "metadata": {
  "kernelspec": {
   "display_name": "Python 3",
   "language": "python",
   "name": "python3"
  },
  "language_info": {
   "codemirror_mode": {
    "name": "ipython",
    "version": 3
   },
   "file_extension": ".py",
   "mimetype": "text/x-python",
   "name": "python",
   "nbconvert_exporter": "python",
   "pygments_lexer": "ipython3",
   "version": "3.6.3"
  }
 },
 "nbformat": 4,
 "nbformat_minor": 2
}
