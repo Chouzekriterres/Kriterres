{
 "cells": [
  {
   "cell_type": "code",
   "execution_count": 27,
   "metadata": {},
   "outputs": [
    {
     "ename": "ImportError",
     "evalue": "cannot import name 'convertMesh'",
     "output_type": "error",
     "traceback": [
      "\u001b[0;31m---------------------------------------------------------------------------\u001b[0m",
      "\u001b[0;31mImportError\u001b[0m                               Traceback (most recent call last)",
      "\u001b[0;32m<ipython-input-27-00014cea5a41>\u001b[0m in \u001b[0;36m<module>\u001b[0;34m()\u001b[0m\n\u001b[1;32m      6\u001b[0m \u001b[0;32mfrom\u001b[0m \u001b[0mpygimli\u001b[0m\u001b[0;34m.\u001b[0m\u001b[0mmplviewer\u001b[0m \u001b[0;32mimport\u001b[0m \u001b[0mdrawMesh\u001b[0m\u001b[0;34m\u001b[0m\u001b[0m\n\u001b[1;32m      7\u001b[0m \u001b[0;32mfrom\u001b[0m \u001b[0mpygimli\u001b[0m\u001b[0;34m.\u001b[0m\u001b[0mviewer\u001b[0m \u001b[0;32mimport\u001b[0m \u001b[0mshowMesh\u001b[0m\u001b[0;34m\u001b[0m\u001b[0m\n\u001b[0;32m----> 8\u001b[0;31m \u001b[0;32mfrom\u001b[0m \u001b[0mpygimli\u001b[0m\u001b[0;34m.\u001b[0m\u001b[0mmeshtools\u001b[0m \u001b[0;32mimport\u001b[0m \u001b[0mconvertMesh\u001b[0m\u001b[0;34m\u001b[0m\u001b[0m\n\u001b[0m",
      "\u001b[0;31mImportError\u001b[0m: cannot import name 'convertMesh'"
     ]
    }
   ],
   "source": [
    "import numpy as np\n",
    "import os\n",
    "\n",
    "import pygimli as pg\n",
    "from pygimli.meshtools import appendTriangleBoundary, merge2Meshes\n",
    "from pygimli.mplviewer import drawMesh\n",
    "from pygimli.viewer import showMesh\n",
    "from pygimli.meshtools import convertMesh"
   ]
  },
  {
   "cell_type": "code",
   "execution_count": 13,
   "metadata": {},
   "outputs": [
    {
     "name": "stdout",
     "output_type": "stream",
     "text": [
      "Mesh: Nodes: 93 Cells: 60 Boundaries: 152\n",
      "No valid data:  1 1 False\n"
     ]
    },
    {
     "data": {
      "text/plain": [
       "(<matplotlib.axes._subplots.AxesSubplot at 0x7f98ae444550>, None)"
      ]
     },
     "execution_count": 13,
     "metadata": {},
     "output_type": "execute_result"
    }
   ],
   "source": [
    "#Ici on commence par définir un maillage rectangulaire homogène\n",
    "\n",
    "xmin, xmax = -0.02, 0.0 #On définit les limites en x du maillage\n",
    "zmin, zmax = -0.3, 0. #On définit les limites en z du maillage\n",
    "\n",
    "dx = 0.01 #On définit le pas de la maille\n",
    "xreg = np.arange(xmin, xmax + dx, dx, 'float') #On calcule les coordonées des mailles\n",
    "zreg = np.arange(zmin, zmax + dx, dx, 'float')\n",
    "\n",
    "mesh1 = pg.Mesh(2) #On crée un maillage vide \n",
    "mesh1.create2DGrid(xreg, zreg, 0) #On crée le maillage\n",
    "for c in mesh1.cells(): #On marque les cellules\n",
    "    c.setMarker(1)\n",
    "\n",
    "print(mesh1) #On affiche le mombre de noeuds, cellules et lignes\n",
    "\n",
    "#showMesh(mesh1, mesh1.cellMarkers(), logScale=False, label=\"Region marker\") #On définit les paramètres d'affichage\n",
    "\n",
    "showMesh(mesh1, mesh1.cellMarkers(), label=\"Region marker\")\n",
    "#drawMesh(ax,mesh1)"
   ]
  },
  {
   "cell_type": "code",
   "execution_count": 14,
   "metadata": {},
   "outputs": [],
   "source": [
    "#A présent on crée une zone grâce à un polygone\n",
    "\n",
    "poly = pg.Mesh(2)  # empty 2d mesh\n",
    "nStart = poly.createNode(0.0, 0.0, 0.0) #On crée un noeud de départ, on travaille en 2D donc le dernier terme vaut 0.0\n",
    "\n",
    "nA = nStart #On définit le noeud de départ\n",
    "for z in zreg[1:]: #On démarre de 1 et on se balade sur l'axe des x en créant un noeud à chaque fois\n",
    "    nB = poly.createNode(xmax, z, 0.0)\n",
    "    poly.createEdge(nA, nB) #On définit un côté entre le noeud précédemment crée et le nouveau\n",
    "    nA = nB #On remplace le noeud de départ par le noeud nouvellement crée\n",
    "\n",
    "z2 = -0.3 #On définit une altitude z2 \n",
    "nA = poly.createNode(xmax, z2, 0.0) #On crée un noeud\n",
    "poly.createEdge(nB, nA) #On fait le lien entre le dernier noeud crée et celui-là\n",
    "nB = poly.createNode(xmin, z2, 0.0) #On crée un autre noeud en symétrique\n",
    "poly.createEdge(nA, nB) #On fait le lien avec le noeud précédent\n",
    "nC = poly.createNode(xmin, -0.8, 0.0)\n",
    "poly.createEdge(nB, nC)\n",
    "nD = poly.createNode(0.4, -0.8, 0.0)\n",
    "poly.createEdge(nC, nD)\n",
    "nE = poly.createNode(0.4, 0.0, 0.0)\n",
    "poly.createEdge(nD, nE)\n",
    "poly.createEdge(nE, nStart) #On ferme le polygone!\n",
    "\n",
    "tri = pg.TriangleWrapper(poly) #On appelle la fonction triangle\n",
    "tri.setSwitches('-pzeAfaq31') #On rentre tout un tas de commandes rigolotes pour générer les triangles\n",
    "# Ici on a :\n",
    "# p : planar straight line graph ==> fichier poly\n",
    "# z : on démarre le comptage à 0\n",
    "# A : assigne un attribut à chaque triangle qui indique à quel segment il appartient et est lié\n",
    "# f : algorithme de triangulation (?)\n",
    "# a : impose une surface contrainte pour chaque triangle on peut ajouter un nombre si on veut préciser\n",
    "# q31 : impose que les triangles générés aient au minimun des angles de 20° On peut ajouter un nombre derrière pour préciser le nombre que l'o souhaite"
   ]
  },
  {
   "cell_type": "code",
   "execution_count": 15,
   "metadata": {},
   "outputs": [],
   "source": [
    "#A présent on génère le maillage hétérogène\n",
    "\n",
    "mesh2 = pg.Mesh(2) #On appelle le second maillage autour du premier\n",
    "tri.generate(mesh2) #On génère les triangles au sein du polygone précédemment crée\n",
    "\n",
    "for cell in mesh2.cells(): #On génère les cellules de chaque maille\n",
    "    cell.setMarker(2)"
   ]
  },
  {
   "cell_type": "code",
   "execution_count": 18,
   "metadata": {},
   "outputs": [
    {
     "name": "stdout",
     "output_type": "stream",
     "text": [
      "No valid data:  1 1 False\n"
     ]
    }
   ],
   "source": [
    "#Fusion des deux maillages pour créer un maillage hybride\n",
    "#mesh3 = merge2Meshes(mesh1, mesh2) #On peut faire fusionner les deux maillages ainsi crées en un seul\n",
    "\n",
    "a=showMesh(mesh2, mesh1.cellMarkers(), label=\"Region marker\")"
   ]
  },
  {
   "cell_type": "code",
   "execution_count": 17,
   "metadata": {},
   "outputs": [
    {
     "name": "stdout",
     "output_type": "stream",
     "text": [
      "<pygimli.core._pygimli_.Node object at 0x7f98b797c2b0>\n"
     ]
    }
   ],
   "source": [
    "#Création d'une fonction pour interpoler la charge au fond du trou\n",
    "\n",
    "#Définition des paramètres initiaux\n",
    "p=1 #coordonnées xy des noeuds du maillage\n",
    "d=30 #profondeur du trou en cm\n",
    "radius=2 #rayon du trou en cm\n",
    "h_0=-95 #charge initiale en cm, soit l'état initial du sol (teneur en eau exprimée en charge)\n",
    "h_1=10 #hauteur d'eau au fond du trou en cm"
   ]
  },
  {
   "cell_type": "code",
   "execution_count": 24,
   "metadata": {},
   "outputs": [
    {
     "ename": "TypeError",
     "evalue": "'Mesh' object does not support indexing",
     "output_type": "error",
     "traceback": [
      "\u001b[0;31m---------------------------------------------------------------------------\u001b[0m",
      "\u001b[0;31mTypeError\u001b[0m                                 Traceback (most recent call last)",
      "\u001b[0;32m<ipython-input-24-2a08bb191ab9>\u001b[0m in \u001b[0;36m<module>\u001b[0;34m()\u001b[0m\n\u001b[0;32m----> 1\u001b[0;31m \u001b[0mprint\u001b[0m\u001b[0;34m(\u001b[0m\u001b[0mmesh2\u001b[0m\u001b[0;34m[\u001b[0m\u001b[0;36m1\u001b[0m\u001b[0;34m]\u001b[0m\u001b[0;34m)\u001b[0m\u001b[0;34m\u001b[0m\u001b[0m\n\u001b[0m",
      "\u001b[0;31mTypeError\u001b[0m: 'Mesh' object does not support indexing"
     ]
    }
   ],
   "source": [
    "print(mesh2[1])"
   ]
  },
  {
   "cell_type": "code",
   "execution_count": 26,
   "metadata": {},
   "outputs": [
    {
     "ename": "TypeError",
     "evalue": "'Mesh' object is not callable",
     "output_type": "error",
     "traceback": [
      "\u001b[0;31m---------------------------------------------------------------------------\u001b[0m",
      "\u001b[0;31mTypeError\u001b[0m                                 Traceback (most recent call last)",
      "\u001b[0;32m<ipython-input-26-e94532322664>\u001b[0m in \u001b[0;36m<module>\u001b[0;34m()\u001b[0m\n\u001b[0;32m----> 1\u001b[0;31m \u001b[0mmesh2\u001b[0m\u001b[0;34m(\u001b[0m\u001b[0;36m2\u001b[0m\u001b[0;34m)\u001b[0m\u001b[0;34m\u001b[0m\u001b[0m\n\u001b[0m",
      "\u001b[0;31mTypeError\u001b[0m: 'Mesh' object is not callable"
     ]
    }
   ],
   "source": [
    "mesh2(2)"
   ]
  },
  {
   "cell_type": "code",
   "execution_count": null,
   "metadata": {},
   "outputs": [],
   "source": []
  }
 ],
 "metadata": {
  "kernelspec": {
   "display_name": "Python 3",
   "language": "python",
   "name": "python3"
  },
  "language_info": {
   "codemirror_mode": {
    "name": "ipython",
    "version": 3
   },
   "file_extension": ".py",
   "mimetype": "text/x-python",
   "name": "python",
   "nbconvert_exporter": "python",
   "pygments_lexer": "ipython3",
   "version": "3.6.3"
  }
 },
 "nbformat": 4,
 "nbformat_minor": 2
}
