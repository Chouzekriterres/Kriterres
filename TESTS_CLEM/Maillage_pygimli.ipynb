{
 "cells": [
  {
   "cell_type": "code",
   "execution_count": 18,
   "metadata": {},
   "outputs": [],
   "source": [
    "import numpy as np\n",
    "import os\n",
    "os.system('clear')\n",
    "\n",
    "import pygimli as pg\n",
    "from pygimli.meshtools import appendTriangleBoundary, merge2Meshes\n",
    "from pygimli.mplviewer import drawMesh\n",
    "from pygimli.viewer import showMesh"
   ]
  },
  {
   "cell_type": "code",
   "execution_count": 44,
   "metadata": {},
   "outputs": [
    {
     "name": "stdout",
     "output_type": "stream",
     "text": [
      "Mesh: Nodes: 1326 Cells: 1250 Boundaries: 2575\n",
      "No valid data:  1 1 False\n"
     ]
    },
    {
     "data": {
      "text/plain": [
       "(<matplotlib.axes._subplots.AxesSubplot at 0x7ff483677630>, None)"
      ]
     },
     "execution_count": 44,
     "metadata": {},
     "output_type": "execute_result"
    }
   ],
   "source": [
    "#Ici on commence par définir un maillage rectangulaire homogène\n",
    "\n",
    "xmin, xmax = 0., 50. #On définit les limites en x du maillage\n",
    "zmin, zmax = -50., -25. #On définit les limites en z du maillage\n",
    "\n",
    "dx = 1.0 #On définit le pas de la maille\n",
    "xreg = np.arange(xmin, xmax + dx, dx, 'float') #On calcule les coordonées des mailles\n",
    "zreg = np.arange(zmin, zmax + dx, dx, 'float')\n",
    "\n",
    "mesh1 = pg.Mesh(2) #On crée un maillage vide \n",
    "mesh1.create2DGrid(xreg, zreg, 0) #On crée le maillage\n",
    "for c in mesh1.cells(): #On marque les cellules\n",
    "    c.setMarker(1)\n",
    "\n",
    "print(mesh1) #On affiche le mombre de noeuds, cellules et lignes\n",
    "\n",
    "#showMesh(mesh1, mesh1.cellMarkers(), logScale=False, label=\"Region marker\") #On définit les paramètres d'affichage\n",
    "\n",
    "showMesh(mesh1, mesh1.cellMarkers(), label=\"Region marker\")\n",
    "#drawMesh(ax,mesh1)"
   ]
  },
  {
   "cell_type": "code",
   "execution_count": 35,
   "metadata": {},
   "outputs": [],
   "source": [
    "#A présent on crée une zone grâce à un polygone\n",
    "\n",
    "poly = pg.Mesh(2)  # empty 2d mesh\n",
    "nStart = poly.createNode(xmin, zmax, 0.0) #On crée un noeud de départ, on travaille en 2D donc le dernier terme vaut 0.0\n",
    "\n",
    "nA = nStart #On définit le noeud de départ\n",
    "for x in xreg[1:]: #On démarre de 1 et on se balade sur l'axe des x en créant un noeud à chaque fois\n",
    "    nB = poly.createNode(x, zmax, 0.0)\n",
    "    poly.createEdge(nA, nB) #On définit un côté entre le noeud précédemment crée et le nouveau\n",
    "    nA = nB #On remplace le noeud de départ par le noeud nouvellement crée\n",
    "\n",
    "z2 = 0. #On définit une altitude z2 \n",
    "nA = poly.createNode(xmax, z2, 0.0) #On crée un noeud\n",
    "poly.createEdge(nB, nA) #On fait le lien entre le dernier noeud crée et celui-là\n",
    "nB = poly.createNode(xmin, z2, 0.0) #On crée un autre noeud en symétrique\n",
    "poly.createEdge(nA, nB) #On fait le lien avec le noeud précédent\n",
    "poly.createEdge(nB, nStart) #On ferme le polygone!\n",
    "\n",
    "tri = pg.TriangleWrapper(poly) #On appelle la fonction triangle\n",
    "tri.setSwitches('-pzeAfaq31') #On rentre tout un tas de commandes rigolotes pour générer les triangles\n",
    "# Ici on a :\n",
    "# p : planar straight line graph ==> fichier poly\n",
    "# z : on démarre le comptage à 0\n",
    "# A : assigne un attribut à chaque triangle qui indique à quel segment il appartient et est lié\n",
    "# f : algorithme de triangulation (?)\n",
    "# a : impose une surface contrainte pour chaque triangle on peut ajouter un nombre si on veut préciser\n",
    "# q31 : impose que les triangles générés aient au minimun des angles de 20° On peut ajouter un nombre derrière pour préciser le nombre que l'o souhaite"
   ]
  },
  {
   "cell_type": "code",
   "execution_count": 36,
   "metadata": {},
   "outputs": [],
   "source": [
    "#A présent on génère le maillage hétérogène\n",
    "\n",
    "mesh2 = pg.Mesh(2) #On appelle le second maillage autour du premier\n",
    "tri.generate(mesh2) #On génère les triangles au sein du polygone précédemment crée\n",
    "\n",
    "for cell in mesh2.cells(): #On génère les cellules de chaque maille\n",
    "    cell.setMarker(2)"
   ]
  },
  {
   "cell_type": "code",
   "execution_count": 48,
   "metadata": {},
   "outputs": [
    {
     "name": "stdout",
     "output_type": "stream",
     "text": [
      "No valid data:  1 1 False\n"
     ]
    },
    {
     "data": {
      "text/plain": [
       "(<matplotlib.axes._subplots.AxesSubplot at 0x7ff481d30470>, None)"
      ]
     },
     "execution_count": 48,
     "metadata": {},
     "output_type": "execute_result"
    }
   ],
   "source": [
    "#Fusion des deux maillages pour créer un maillage hybride\n",
    "mesh3 = merge2Meshes(mesh1, mesh2) #On peut faire fusionner les deux maillages ainsi crées en un seul\n",
    "\n",
    "showMesh(mesh3, mesh1.cellMarkers(), label=\"Region marker\")"
   ]
  },
  {
   "cell_type": "code",
   "execution_count": 50,
   "metadata": {},
   "outputs": [],
   "source": [
    "#Autre aspect, on peut créer un maillage autour de celui déjà crée\n",
    "\n",
    "# On crée un maillage de dimension 100*100 autour du maillage hybride, qualité de maillage équivalente, lissée, marquage\n",
    "mesh = appendTriangleBoundary(mesh3, -100., 100., quality=31, smooth=True,\n",
    "                              marker=3, isSubSurface=True)\n",
    "\n",
    "#On affiche le maillage avec les marquages, avec cette technique il semble qu'on peut avoir l'option pour cliquer sur les mailles\n",
    "ax, cbar = showMesh(mesh, mesh.cellMarkers(), cmap=\"summer\",\n",
    "                    label=\"Region marker\")\n",
    "\n",
    "drawMesh(ax, mesh)\n",
    "\n",
    "ax, _ = showMesh(mesh, mesh.cellMarkers(), logScale=False,\n",
    "                 label=\"Region marker\")\n",
    "\n",
    "drawMesh(ax, mesh)\n",
    "pg.wait()"
   ]
  },
  {
   "cell_type": "code",
   "execution_count": 42,
   "metadata": {},
   "outputs": [
    {
     "name": "stdout",
     "output_type": "stream",
     "text": [
      "[  1.   2.   3.   4.   5.   6.   7.   8.   9.  10.  11.  12.  13.  14.  15.\n",
      "  16.  17.  18.  19.  20.  21.  22.  23.  24.  25.  26.  27.  28.  29.  30.\n",
      "  31.  32.  33.  34.  35.  36.  37.  38.  39.  40.  41.  42.  43.  44.  45.\n",
      "  46.  47.  48.  49.  50.]\n"
     ]
    }
   ],
   "source": [
    "print(xreg[1:])"
   ]
  },
  {
   "cell_type": "code",
   "execution_count": 43,
   "metadata": {},
   "outputs": [
    {
     "name": "stdout",
     "output_type": "stream",
     "text": [
      "[-50. -49. -48. -47. -46. -45. -44. -43. -42. -41. -40. -39. -38. -37. -36.\n",
      " -35. -34. -33. -32. -31. -30. -29. -28. -27. -26. -25.]\n"
     ]
    }
   ],
   "source": [
    "print(zreg)"
   ]
  },
  {
   "cell_type": "code",
   "execution_count": null,
   "metadata": {},
   "outputs": [],
   "source": []
  }
 ],
 "metadata": {
  "kernelspec": {
   "display_name": "Python 3",
   "language": "python",
   "name": "python3"
  },
  "language_info": {
   "codemirror_mode": {
    "name": "ipython",
    "version": 3
   },
   "file_extension": ".py",
   "mimetype": "text/x-python",
   "name": "python",
   "nbconvert_exporter": "python",
   "pygments_lexer": "ipython3",
   "version": "3.6.3"
  }
 },
 "nbformat": 4,
 "nbformat_minor": 2
}
