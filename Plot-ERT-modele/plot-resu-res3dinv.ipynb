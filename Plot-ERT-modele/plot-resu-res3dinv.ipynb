{
 "cells": [
  {
   "cell_type": "code",
   "execution_count": 1,
   "metadata": {
    "collapsed": true,
    "deletable": true,
    "editable": true
   },
   "outputs": [],
   "source": [
    "import numpy\n",
    "import matplotlib\n",
    "import matplotlib.pyplot as plt\n",
    "import pylab\n",
    "from ipywidgets import interact, FloatSlider"
   ]
  },
  {
   "cell_type": "code",
   "execution_count": 7,
   "metadata": {
    "collapsed": true,
    "deletable": true,
    "editable": true
   },
   "outputs": [],
   "source": [
    "m = numpy.loadtxt(\"./ert3d-resu2.csv\")"
   ]
  },
  {
   "cell_type": "code",
   "execution_count": 8,
   "metadata": {
    "collapsed": false,
    "deletable": true,
    "editable": true
   },
   "outputs": [],
   "source": [
    "x = m[:,0]\n",
    "y = m[:,2]\n",
    "s = m[:,3]\n",
    "c = [ 10**4/foo for foo in s]"
   ]
  },
  {
   "cell_type": "code",
   "execution_count": 9,
   "metadata": {
    "collapsed": false,
    "deletable": true,
    "editable": true
   },
   "outputs": [
    {
     "data": {
      "application/vnd.jupyter.widget-view+json": {
       "model_id": "b7ec1252cfdf4bfbbde5693eb355033a"
      }
     },
     "metadata": {},
     "output_type": "display_data"
    }
   ],
   "source": [
    "@interact\n",
    "def f(vmin=FloatSlider(min=min(s),max=max(s), step=1, value=min(s)), \n",
    "      vmax=FloatSlider(min=min(s),max=max(s), step=10, value=max(s))):\n",
    "    #matplotlib.pyplot.scatter(x,y, c=s, vmin=vmin, vmax=vmax, edgecolors='face', cmap=plt.get_cmap('jet')) \n",
    "    plt.scatter(x,y, c=s, norm=matplotlib.colors.LogNorm(vmin=vmin, vmax=vmax), edgecolors='face', cmap=plt.get_cmap('jet'))\n",
    "    fig = plt.gcf()\n",
    "    fig.set_size_inches(25,3)\n",
    "    \n",
    "    plt.colorbar(label=\"Resistivity ($\\Omega\\cdot m$)\")\n",
    "    #plt.colorbar(label=\"Conductivity ($S / cm$)\")\n",
    "    \n",
    "    axes = plt.axes()\n",
    "    axes.set_xbound(min(x),max(x))\n",
    "    axes.set_ybound(-16,27)\n",
    "    axes.set_xlabel(\"Distance ($m$)\")\n",
    "    axes.set_ylabel(\"Depth ($m$)\")\n",
    "    axes.set_aspect('equal', 'datalim')\n",
    "    plt.title(\"Inversion Res3Dinv\")\n",
    "    fig.savefig(\"./Res3d-rho-log.pdf\")\n",
    "    matplotlib.pyplot.show()"
   ]
  },
  {
   "cell_type": "code",
   "execution_count": 15,
   "metadata": {
    "collapsed": false,
    "deletable": true,
    "editable": true
   },
   "outputs": [
    {
     "data": {
      "application/vnd.jupyter.widget-view+json": {
       "model_id": "fa606432ffe043ba8ff26e02a0f08907"
      }
     },
     "metadata": {},
     "output_type": "display_data"
    }
   ],
   "source": [
    "@interact\n",
    "def f(vmin=FloatSlider(min=min(s),max=max(s), step=1, value=min(s)), \n",
    "      vmax=FloatSlider(min=min(s),max=max(s), step=10, value=max(s))):\n",
    "    matplotlib.pyplot.scatter(x,y, c=s, vmin=vmin, vmax=vmax, edgecolors='face', cmap=plt.get_cmap('jet')) \n",
    "    #plt.scatter(x,y, c=s, norm=matplotlib.colors.LogNorm(vmin=vmin, vmax=vmax), edgecolors='face', cmap=plt.get_cmap('jet'))\n",
    "    fig = plt.gcf()\n",
    "    fig.set_size_inches(25,3)\n",
    "    \n",
    "    plt.colorbar(label=\"Resistivity ($\\Omega\\cdot m$)\")\n",
    "    #plt.colorbar(label=\"Conductivity ($S / cm$)\")\n",
    "    \n",
    "    axes = plt.axes()\n",
    "    axes.set_xbound(min(x),max(x))\n",
    "    axes.set_ybound(-16,27)\n",
    "    axes.set_xlabel(\"Distance ($m$)\")\n",
    "    axes.set_ylabel(\"Depth ($m$)\")\n",
    "    axes.set_aspect('equal', 'datalim')\n",
    "    plt.title(\"Inversion Res3Dinv\")\n",
    "    fig.savefig(\"./Res3d-rho-lin.pdf\")\n",
    "    matplotlib.pyplot.show()"
   ]
  },
  {
   "cell_type": "code",
   "execution_count": 17,
   "metadata": {
    "collapsed": false,
    "deletable": true,
    "editable": true
   },
   "outputs": [
    {
     "data": {
      "application/vnd.jupyter.widget-view+json": {
       "model_id": "b25589788a564879a75275a508355ab7"
      }
     },
     "metadata": {},
     "output_type": "display_data"
    }
   ],
   "source": [
    "@interact\n",
    "def f(vmin=FloatSlider(min=min(c),max=max(c), step=1, value=min(c)), \n",
    "      vmax=FloatSlider(min=min(c),max=13000, step=10, value=13000)):\n",
    "    #matplotlib.pyplot.scatter(x,y, c=s, vmin=vmin, vmax=vmax, edgecolors='face', cmap=plt.get_cmap('jet')) \n",
    "    plt.scatter(x,y, c=c, norm=matplotlib.colors.LogNorm(vmin=vmin, vmax=vmax), edgecolors='face', cmap=plt.get_cmap('jet'))\n",
    "    fig = plt.gcf()\n",
    "    fig.set_size_inches(25,3)\n",
    "    \n",
    "    #plt.colorbar(label=\"Resistivity ($\\Omega\\cdot m$)\")\n",
    "    plt.colorbar(label=\"Conductivity ($\\mu S/ cm$)\")\n",
    "    \n",
    "    axes = plt.axes()\n",
    "    axes.set_xbound(min(x),max(x))\n",
    "    axes.set_ybound(-16,27)\n",
    "    axes.set_xlabel(\"Distance ($m$)\")\n",
    "    axes.set_ylabel(\"Depth ($m$)\")\n",
    "    axes.set_aspect('equal', 'datalim')\n",
    "    plt.title(\"Inversion Res3Dinv\")\n",
    "    fig.savefig(\"./res3d-cond-log.pdf\")\n",
    "    matplotlib.pyplot.show()"
   ]
  },
  {
   "cell_type": "code",
   "execution_count": 19,
   "metadata": {
    "collapsed": false,
    "deletable": true,
    "editable": true
   },
   "outputs": [
    {
     "data": {
      "application/vnd.jupyter.widget-view+json": {
       "model_id": "23b0d396e5dd439fbc6662a61d039828"
      }
     },
     "metadata": {},
     "output_type": "display_data"
    }
   ],
   "source": [
    "@interact\n",
    "def f(vmin=FloatSlider(min=min(c),max=max(c), step=1, value=min(c)), \n",
    "      vmax=FloatSlider(min=min(c),max=max(c), step=10, value=1200)):\n",
    "    plt.scatter(x,y, c=c, vmin=vmin, vmax=vmax, edgecolors='face', cmap=plt.get_cmap('jet')) \n",
    "    #plt.scatter(x,y, c=c, norm=matplotlib.colors.LogNorm(vmin=vmin, vmax=vmax), edgecolors='face', cmap=plt.get_cmap('jet'))\n",
    "    fig = plt.gcf()\n",
    "    fig.set_size_inches(25,3)\n",
    "    \n",
    "    #plt.colorbar(label=\"Resistivity ($\\Omega\\cdot m$)\")\n",
    "    plt.colorbar(label=\"Conductivity ($\\mu S/ cm$)\")\n",
    "    \n",
    "    axes = plt.axes()\n",
    "    axes.set_xbound(min(x),max(x))\n",
    "    axes.set_ybound(-16,27)\n",
    "    axes.set_xlabel(\"Distance ($m$)\")\n",
    "    axes.set_ylabel(\"Depth ($m$)\")\n",
    "    axes.set_aspect('equal', 'datalim')\n",
    "    plt.title(\"Inversion Res2Dinv\")\n",
    "    fig.savefig(\"./res2d-cond-lin.pdf\")\n",
    "    matplotlib.pyplot.show()"
   ]
  },
  {
   "cell_type": "code",
   "execution_count": 21,
   "metadata": {
    "collapsed": false,
    "deletable": true,
    "editable": true
   },
   "outputs": [
    {
     "data": {
      "application/vnd.jupyter.widget-view+json": {
       "model_id": "4b725f3b94114d7aaa242a15c77753b4"
      }
     },
     "metadata": {},
     "output_type": "display_data"
    }
   ],
   "source": [
    "@interact\n",
    "def f(vmin=FloatSlider(min=min(c),max=max(c), step=1, value=min(c)), \n",
    "      vmax=FloatSlider(min=min(c),max=max(c), step=10, value=13000)):\n",
    "    #matplotlib.pyplot.scatter(x,y, c=s, vmin=vmin, vmax=vmax, edgecolors='face', cmap=plt.get_cmap('jet')) \n",
    "    plt.imshow(x,y, c=c, interpolation= 'nearest')\n",
    "    fig = plt.gcf()\n",
    "    fig.set_size_inches(25,3)\n",
    "    \n",
    "    #plt.colorbar(label=\"Resistivity ($\\Omega\\cdot m$)\")\n",
    "    plt.colorbar(label=\"Conductivity ($\\mu / cm$)\")\n",
    "    \n",
    "    axes = plt.axes()\n",
    "    axes.set_xbound(min(x),max(x))\n",
    "    axes.set_ybound(-16,26)\n",
    "    axes.set_xlabel(\"Distance ($m$)\")\n",
    "    axes.set_ylabel(\"Depth ($m$)\")\n",
    "    axes.set_aspect('equal', 'datalim')\n",
    "    plt.title(\"Inversion Res2Dinv\")\n",
    "    fig.savefig(\"./res2d-cond-log.pdf\")\n",
    "    matplotlib.pyplot.show()"
   ]
  },
  {
   "cell_type": "code",
   "execution_count": 22,
   "metadata": {
    "collapsed": true,
    "deletable": true,
    "editable": true
   },
   "outputs": [],
   "source": [
    "plt.imshow?"
   ]
  },
  {
   "cell_type": "code",
   "execution_count": null,
   "metadata": {
    "collapsed": true,
    "deletable": true,
    "editable": true
   },
   "outputs": [],
   "source": []
  }
 ],
 "metadata": {
  "kernelspec": {
   "display_name": "Python 3",
   "language": "python",
   "name": "python3"
  },
  "language_info": {
   "codemirror_mode": {
    "name": "ipython",
    "version": 3
   },
   "file_extension": ".py",
   "mimetype": "text/x-python",
   "name": "python",
   "nbconvert_exporter": "python",
   "pygments_lexer": "ipython3",
   "version": "3.5.2"
  }
 },
 "nbformat": 4,
 "nbformat_minor": 2
}
