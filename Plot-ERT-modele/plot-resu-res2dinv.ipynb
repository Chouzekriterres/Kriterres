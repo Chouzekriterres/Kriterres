{
 "cells": [
  {
   "cell_type": "code",
   "execution_count": 1,
   "metadata": {
    "collapsed": true,
    "deletable": true,
    "editable": true
   },
   "outputs": [],
   "source": [
    "import numpy\n",
    "import matplotlib\n",
    "import matplotlib.pyplot as plt\n",
    "import pylab\n",
    "from ipywidgets import interact, FloatSlider"
   ]
  },
  {
   "cell_type": "code",
   "execution_count": 2,
   "metadata": {
    "collapsed": true,
    "deletable": true,
    "editable": true
   },
   "outputs": [],
   "source": [
    "m = numpy.loadtxt(\"./modele.txt\")"
   ]
  },
  {
   "cell_type": "code",
   "execution_count": 3,
   "metadata": {
    "collapsed": true,
    "deletable": true,
    "editable": true
   },
   "outputs": [],
   "source": [
    "x = m[:,0]\n",
    "y = m[:,1]\n",
    "s = m[:,2]\n",
    "c = [ 10**4/foo for foo in s]"
   ]
  },
  {
   "cell_type": "code",
   "execution_count": 4,
   "metadata": {
    "collapsed": false,
    "deletable": true,
    "editable": true
   },
   "outputs": [
    {
     "data": {
      "application/vnd.jupyter.widget-view+json": {
       "model_id": "92ff1dd0092742bcadc9742021f47f10"
      }
     },
     "metadata": {},
     "output_type": "display_data"
    }
   ],
   "source": [
    "@interact\n",
    "def f(vmin=FloatSlider(min=min(s),max=max(s), step=1, value=3.12), \n",
    "      vmax=FloatSlider(min=min(s),max=max(s), step=10, value=603.12)):\n",
    "    #matplotlib.pyplot.scatter(x,y, c=s, vmin=vmin, vmax=vmax, edgecolors='face', cmap=plt.get_cmap('jet')) \n",
    "    plt.scatter(x,y, c=s, norm=matplotlib.colors.LogNorm(vmin=vmin, vmax=vmax), edgecolors='face', cmap=plt.get_cmap('jet'))\n",
    "    fig = plt.gcf()\n",
    "    fig.set_size_inches(25,3)\n",
    "    \n",
    "    plt.colorbar(label=\"Resistivity ($\\Omega\\cdot m$)\")\n",
    "    #plt.colorbar(label=\"Conductivity ($S / cm$)\")\n",
    "    \n",
    "    axes = plt.axes()\n",
    "    axes.set_xbound(min(x),500)\n",
    "    axes.set_ybound(-16,27)\n",
    "    axes.set_xlabel(\"Distance ($m$)\")\n",
    "    axes.set_ylabel(\"Depth ($m$)\")\n",
    "    axes.set_aspect('equal', 'datalim')\n",
    "    plt.title(\"Inversion Res2Dinv\")\n",
    "    fig.savefig(\"./Res2d-rho-log.pdf\")\n",
    "    matplotlib.pyplot.show()"
   ]
  },
  {
   "cell_type": "code",
   "execution_count": 7,
   "metadata": {
    "collapsed": false,
    "deletable": true,
    "editable": true
   },
   "outputs": [
    {
     "data": {
      "application/vnd.jupyter.widget-view+json": {
       "model_id": "d12829ea4bfb4e188353a48f712b7c18"
      }
     },
     "metadata": {},
     "output_type": "display_data"
    }
   ],
   "source": [
    "@interact\n",
    "def f(vmin=FloatSlider(min=min(s),max=max(s), step=1, value=min(s)), \n",
    "      vmax=FloatSlider(min=min(s),max=max(s), step=10, value=max(s))):\n",
    "    matplotlib.pyplot.scatter(x,y, c=s, vmin=vmin, vmax=vmax, edgecolors='face', cmap=plt.get_cmap('jet')) \n",
    "    #plt.scatter(x,y, c=s, norm=matplotlib.colors.LogNorm(vmin=vmin, vmax=vmax), edgecolors='face', cmap=plt.get_cmap('jet'))\n",
    "    fig = plt.gcf()\n",
    "    fig.set_size_inches(25,3)\n",
    "    \n",
    "    plt.colorbar(label=\"Resistivity ($\\Omega\\cdot m$)\")\n",
    "    #plt.colorbar(label=\"Conductivity ($S / cm$)\")\n",
    "    \n",
    "    axes = plt.axes()\n",
    "    axes.set_xbound(min(x),max(x))\n",
    "    axes.set_ybound(-16,26)\n",
    "    axes.set_xlabel(\"Distance ($m$)\")\n",
    "    axes.set_ylabel(\"Depth ($m$)\")\n",
    "    axes.set_aspect('equal', 'datalim')\n",
    "    plt.title(\"Inversion Res2Dinv\")\n",
    "    fig.savefig(\"./Res2d-rho-lin.pdf\")\n",
    "    matplotlib.pyplot.show()"
   ]
  },
  {
   "cell_type": "code",
   "execution_count": 8,
   "metadata": {
    "collapsed": false,
    "deletable": true,
    "editable": true
   },
   "outputs": [
    {
     "data": {
      "application/vnd.jupyter.widget-view+json": {
       "model_id": "ec77c2a95fba4c03bbcf98bfafbced46"
      }
     },
     "metadata": {},
     "output_type": "display_data"
    }
   ],
   "source": [
    "@interact\n",
    "def f(vmin=FloatSlider(min=min(c),max=max(c), step=1, value=min(c)), \n",
    "      vmax=FloatSlider(min=min(c),max=max(c), step=10, value=13000)):\n",
    "    #matplotlib.pyplot.scatter(x,y, c=s, vmin=vmin, vmax=vmax, edgecolors='face', cmap=plt.get_cmap('jet')) \n",
    "    plt.scatter(x,y, c=c, norm=matplotlib.colors.LogNorm(vmin=vmin, vmax=vmax), edgecolors='face', cmap=plt.get_cmap('jet'))\n",
    "    fig = plt.gcf()\n",
    "    fig.set_size_inches(25,3)\n",
    "    \n",
    "    #plt.colorbar(label=\"Resistivity ($\\Omega\\cdot m$)\")\n",
    "    plt.colorbar(label=\"Conductivity ($\\mu S/ cm$)\")\n",
    "    \n",
    "    axes = plt.axes()\n",
    "    #axes.set_xbound(min(x),max(x))\n",
    "    axes.set_xbound(0,500)\n",
    "    axes.set_ybound(-16,27)\n",
    "    axes.set_xlabel(\"Distance ($m$)\")\n",
    "    axes.set_ylabel(\"Depth ($m$)\")\n",
    "    axes.set_aspect('equal', 'datalim')\n",
    "    plt.title(\"Inversion Res2Dinv\")\n",
    "    fig.savefig(\"./res2d-cond-log-0-500.pdf\")\n",
    "    matplotlib.pyplot.show()"
   ]
  },
  {
   "cell_type": "code",
   "execution_count": 26,
   "metadata": {
    "collapsed": false,
    "deletable": true,
    "editable": true
   },
   "outputs": [
    {
     "data": {
      "application/vnd.jupyter.widget-view+json": {
       "model_id": "4e5c914516344632860a788164be9c9a"
      }
     },
     "metadata": {},
     "output_type": "display_data"
    }
   ],
   "source": [
    "@interact\n",
    "def f(vmin=FloatSlider(min=min(c),max=max(c), step=1, value=min(c)), \n",
    "      vmax=FloatSlider(min=min(c),max=max(c), step=10, value=1200)):\n",
    "    plt.scatter(x,y, c=c, vmin=vmin, vmax=vmax, edgecolors='face', cmap=plt.get_cmap('jet')) \n",
    "    #plt.scatter(x,y, c=c, norm=matplotlib.colors.LogNorm(vmin=vmin, vmax=vmax), edgecolors='face', cmap=plt.get_cmap('jet'))\n",
    "    fig = plt.gcf()\n",
    "    fig.set_size_inches(25,3)\n",
    "    \n",
    "    #plt.colorbar(label=\"Resistivity ($\\Omega\\cdot m$)\")\n",
    "    plt.colorbar(label=\"Conductivity ($\\mu S/ cm$)\")\n",
    "    \n",
    "    axes = plt.axes()\n",
    "    axes.set_xbound(min(x),max(x))\n",
    "    axes.set_ybound(-16,26)\n",
    "    axes.set_xlabel(\"Distance ($m$)\")\n",
    "    axes.set_ylabel(\"Depth ($m$)\")\n",
    "    axes.set_aspect('equal', 'datalim')\n",
    "    plt.title(\"Inversion Res2Dinv\")\n",
    "    fig.savefig(\"./res2d-cond-lin.pdf\")\n",
    "    matplotlib.pyplot.show()"
   ]
  },
  {
   "cell_type": "code",
   "execution_count": 21,
   "metadata": {
    "collapsed": false,
    "deletable": true,
    "editable": true
   },
   "outputs": [
    {
     "data": {
      "application/vnd.jupyter.widget-view+json": {
       "model_id": "4b725f3b94114d7aaa242a15c77753b4"
      }
     },
     "metadata": {},
     "output_type": "display_data"
    }
   ],
   "source": [
    "@interact\n",
    "def f(vmin=FloatSlider(min=min(c),max=max(c), step=1, value=min(c)), \n",
    "      vmax=FloatSlider(min=min(c),max=max(c), step=10, value=13000)):\n",
    "    #matplotlib.pyplot.scatter(x,y, c=s, vmin=vmin, vmax=vmax, edgecolors='face', cmap=plt.get_cmap('jet')) \n",
    "    plt.imshow(x,y, c=c, interpolation= 'nearest')\n",
    "    fig = plt.gcf()\n",
    "    fig.set_size_inches(25,3)\n",
    "    \n",
    "    #plt.colorbar(label=\"Resistivity ($\\Omega\\cdot m$)\")\n",
    "    plt.colorbar(label=\"Conductivity ($\\mu / cm$)\")\n",
    "    \n",
    "    axes = plt.axes()\n",
    "    axes.set_xbound(min(x),max(x))\n",
    "    axes.set_ybound(-16,26)\n",
    "    axes.set_xlabel(\"Distance ($m$)\")\n",
    "    axes.set_ylabel(\"Depth ($m$)\")\n",
    "    axes.set_aspect('equal', 'datalim')\n",
    "    plt.title(\"Inversion Res2Dinv\")\n",
    "    fig.savefig(\"./res2d-cond-log.pdf\")\n",
    "    matplotlib.pyplot.show()"
   ]
  },
  {
   "cell_type": "code",
   "execution_count": 10,
   "metadata": {
    "collapsed": false,
    "deletable": true,
    "editable": true
   },
   "outputs": [],
   "source": [
    "plt.axes?\n"
   ]
  },
  {
   "cell_type": "code",
   "execution_count": 11,
   "metadata": {
    "collapsed": false,
    "deletable": true,
    "editable": true
   },
   "outputs": [
    {
     "data": {
      "text/plain": [
       "149.91498329578087"
      ]
     },
     "execution_count": 11,
     "metadata": {},
     "output_type": "execute_result"
    }
   ],
   "source": [
    "rho=0.88*25.5/.25**1.37\n",
    "rho"
   ]
  },
  {
   "cell_type": "code",
   "execution_count": null,
   "metadata": {
    "collapsed": true,
    "deletable": true,
    "editable": true
   },
   "outputs": [],
   "source": []
  }
 ],
 "metadata": {
  "kernelspec": {
   "display_name": "Python 3",
   "language": "python",
   "name": "python3"
  },
  "language_info": {
   "codemirror_mode": {
    "name": "ipython",
    "version": 3
   },
   "file_extension": ".py",
   "mimetype": "text/x-python",
   "name": "python",
   "nbconvert_exporter": "python",
   "pygments_lexer": "ipython3",
   "version": "3.5.2"
  }
 },
 "nbformat": 4,
 "nbformat_minor": 2
}
