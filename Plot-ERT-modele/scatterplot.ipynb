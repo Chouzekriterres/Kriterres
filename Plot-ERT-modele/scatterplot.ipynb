{
 "cells": [
  {
   "cell_type": "code",
   "execution_count": 57,
   "metadata": {
    "collapsed": true,
    "deletable": true,
    "editable": true
   },
   "outputs": [],
   "source": [
    "import numpy\n",
    "import matplotlib\n",
    "import matplotlib.pyplot as plt\n",
    "import pylab\n",
    "from ipywidgets import interact, FloatSlider"
   ]
  },
  {
   "cell_type": "code",
   "execution_count": 58,
   "metadata": {
    "collapsed": false,
    "deletable": true,
    "editable": true
   },
   "outputs": [],
   "source": [
    "m = numpy.loadtxt(\"./modele.txt\")"
   ]
  },
  {
   "cell_type": "code",
   "execution_count": 59,
   "metadata": {
    "collapsed": false,
    "deletable": true,
    "editable": true
   },
   "outputs": [],
   "source": [
    "x = m[:,0]\n",
    "y = m[:,1]\n",
    "s = m[:,2]\n",
    "c = [ 10**4/foo for foo in s]"
   ]
  },
  {
   "cell_type": "markdown",
   "metadata": {},
   "source": [
    "Pour changer la barre de couleur changer le 'jet' en ce que l'on veut. 'seismic' par exemple\n",
    "Pour exécuter une cellule : \"shift enter\"\n",
    "\n"
   ]
  },
  {
   "cell_type": "code",
   "execution_count": 67,
   "metadata": {
    "collapsed": false,
    "deletable": true,
    "editable": true
   },
   "outputs": [
    {
     "data": {
      "application/vnd.jupyter.widget-view+json": {
       "model_id": "8e1b7b919b4843198c7db78c18940ce0"
      }
     },
     "metadata": {},
     "output_type": "display_data"
    }
   ],
   "source": [
    "@interact\n",
    "def f(vmin=FloatSlider(min=min(s),max=max(s), step=1, value=min(s)), \n",
    "      vmax=FloatSlider(min=min(s),max=max(s), step=10, value=max(s))):\n",
    "    #matplotlib.pyplot.scatter(x,y, c=s, vmin=vmin, vmax=vmax, edgecolors='face', cmap=plt.get_cmap('jet')) \n",
    "    plt.scatter(x,y, c=s, norm=matplotlib.colors.LogNorm(vmin=vmin, vmax=vmax), edgecolors='face', cmap=plt.get_cmap('jet'))\n",
    "    fig = plt.gcf()\n",
    "    fig.set_size_inches(25,3)\n",
    "    \n",
    "    plt.colorbar(label=\"Resistivity ($\\cdot m$)\")\n",
    "    #plt.colorbar(label=\"Conductivity ($S / cm$)\")\n",
    "    \n",
    "    axes = plt.axes()\n",
    "    axes.set_xbound(min(x),max(x))\n",
    "    axes.set_ybound(-10,26)\n",
    "    axes.set_xlabel(\"Distance ($m$)\")\n",
    "    axes.set_ylabel(\"Depth ($m$)\")\n",
    "    axes.set_aspect('equal', 'datalim')\n",
    "    \n",
    "    plt.title(\"Inversion Res2Dinv\")\n",
    "    #fig.savefig(\"./modele.pdf\")\n",
    "    matplotlib.pyplot.show()"
   ]
  },
  {
   "cell_type": "code",
   "execution_count": null,
   "metadata": {
    "collapsed": true
   },
   "outputs": [],
   "source": []
  },
  {
   "cell_type": "code",
   "execution_count": null,
   "metadata": {
    "collapsed": true
   },
   "outputs": [],
   "source": []
  },
  {
   "cell_type": "code",
   "execution_count": 64,
   "metadata": {
    "collapsed": true,
    "deletable": true,
    "editable": true
   },
   "outputs": [],
   "source": [
    "plt.colorbar?"
   ]
  },
  {
   "cell_type": "code",
   "execution_count": null,
   "metadata": {
    "collapsed": true
   },
   "outputs": [],
   "source": []
  }
 ],
 "metadata": {
  "kernelspec": {
   "display_name": "Python 3",
   "language": "python",
   "name": "python3"
  },
  "language_info": {
   "codemirror_mode": {
    "name": "ipython",
    "version": 3
   },
   "file_extension": ".py",
   "mimetype": "text/x-python",
   "name": "python",
   "nbconvert_exporter": "python",
   "pygments_lexer": "ipython3",
   "version": "3.5.2"
  }
 },
 "nbformat": 4,
 "nbformat_minor": 2
}
