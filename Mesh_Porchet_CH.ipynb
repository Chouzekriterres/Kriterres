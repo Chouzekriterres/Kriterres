{
 "cells": [
  {
   "cell_type": "code",
   "execution_count": 1,
   "metadata": {},
   "outputs": [],
   "source": [
    "#On importe les fonctions qui vont bien\n",
    "\n",
    "import numpy as np\n",
    "\n",
    "import pygimli as pg\n",
    "from pygimli.meshtools import appendTriangleBoundary, merge2Meshes\n",
    "from pygimli.mplviewer import drawMesh\n",
    "from pygimli.viewer import showMesh"
   ]
  },
  {
   "cell_type": "code",
   "execution_count": 3,
   "metadata": {},
   "outputs": [
    {
     "name": "stdout",
     "output_type": "stream",
     "text": [
      "Mesh: Nodes: 0 Cells: 0 Boundaries: 0\n"
     ]
    },
    {
     "ename": "IndexError",
     "evalue": " 0 [0..0)\ner/miniconda3/conda-bld/pygimli_1515582200462/work/gimli/gimli/src/vector.h: 558\t\tconst ValueType& GIMLI::Vector<ValueType>::getVal(GIMLI::Index) const [with ValueType = long int; GIMLI::Index = long unsigned int] ",
     "output_type": "error",
     "traceback": [
      "\u001b[0;31m---------------------------------------------------------------------------\u001b[0m",
      "\u001b[0;31mIndexError\u001b[0m                                Traceback (most recent call last)",
      "\u001b[0;32m<ipython-input-3-5e983d00fc7b>\u001b[0m in \u001b[0;36m<module>\u001b[0;34m()\u001b[0m\n\u001b[1;32m     16\u001b[0m \u001b[0mprint\u001b[0m\u001b[0;34m(\u001b[0m\u001b[0mmesh1\u001b[0m\u001b[0;34m)\u001b[0m \u001b[0;31m#On affiche le mombre de noeuds, cellules et lignes\u001b[0m\u001b[0;34m\u001b[0m\u001b[0m\n\u001b[1;32m     17\u001b[0m \u001b[0;34m\u001b[0m\u001b[0m\n\u001b[0;32m---> 18\u001b[0;31m \u001b[0mshowMesh\u001b[0m\u001b[0;34m(\u001b[0m\u001b[0mmesh1\u001b[0m\u001b[0;34m,\u001b[0m \u001b[0mmesh1\u001b[0m\u001b[0;34m.\u001b[0m\u001b[0mcellMarkers\u001b[0m\u001b[0;34m(\u001b[0m\u001b[0;34m)\u001b[0m\u001b[0;34m,\u001b[0m \u001b[0mlabel\u001b[0m\u001b[0;34m=\u001b[0m\u001b[0;34m\"Region marker\"\u001b[0m\u001b[0;34m)\u001b[0m\u001b[0;34m\u001b[0m\u001b[0m\n\u001b[0m",
      "\u001b[0;32m~/miniconda/lib/python3.6/site-packages/pygimli/viewer/showmesh.py\u001b[0m in \u001b[0;36mshowMesh\u001b[0;34m(mesh, data, hold, block, colorBar, label, coverage, ax, savefig, showMesh, **kwargs)\u001b[0m\n\u001b[1;32m    218\u001b[0m         \u001b[0;31m#print(data, type(data))\u001b[0m\u001b[0;34m\u001b[0m\u001b[0;34m\u001b[0m\u001b[0m\n\u001b[1;32m    219\u001b[0m         \u001b[0;31m#print('-----------------------------')\u001b[0m\u001b[0;34m\u001b[0m\u001b[0;34m\u001b[0m\u001b[0m\n\u001b[0;32m--> 220\u001b[0;31m         if (hasattr(data[0], '__len__') and\n\u001b[0m\u001b[1;32m    221\u001b[0m                 not isinstance(data, np.ma.core.MaskedArray)):\n\u001b[1;32m    222\u001b[0m \u001b[0;34m\u001b[0m\u001b[0m\n",
      "\u001b[0;32m~/miniconda/lib/python3.6/site-packages/pygimli/core/__init__.py\u001b[0m in \u001b[0;36m__getVal\u001b[0;34m(self, idx)\u001b[0m\n\u001b[1;32m    436\u001b[0m         \u001b[0midx\u001b[0m \u001b[0;34m=\u001b[0m \u001b[0mlen\u001b[0m\u001b[0;34m(\u001b[0m\u001b[0mself\u001b[0m\u001b[0;34m)\u001b[0m \u001b[0;34m-\u001b[0m \u001b[0;36m1\u001b[0m\u001b[0;34m\u001b[0m\u001b[0m\n\u001b[1;32m    437\u001b[0m \u001b[0;34m\u001b[0m\u001b[0m\n\u001b[0;32m--> 438\u001b[0;31m     \u001b[0;32mreturn\u001b[0m \u001b[0mself\u001b[0m\u001b[0;34m.\u001b[0m\u001b[0mgetVal\u001b[0m\u001b[0;34m(\u001b[0m\u001b[0mint\u001b[0m\u001b[0;34m(\u001b[0m\u001b[0midx\u001b[0m\u001b[0;34m)\u001b[0m\u001b[0;34m)\u001b[0m\u001b[0;34m\u001b[0m\u001b[0m\n\u001b[0m\u001b[1;32m    439\u001b[0m \u001b[0;34m\u001b[0m\u001b[0m\n\u001b[1;32m    440\u001b[0m \u001b[0;34m\u001b[0m\u001b[0m\n",
      "\u001b[0;31mIndexError\u001b[0m:  0 [0..0)\ner/miniconda3/conda-bld/pygimli_1515582200462/work/gimli/gimli/src/vector.h: 558\t\tconst ValueType& GIMLI::Vector<ValueType>::getVal(GIMLI::Index) const [with ValueType = long int; GIMLI::Index = long unsigned int] "
     ]
    }
   ],
   "source": [
    "#On commence par créer un maillage rectangulaire homogène représentant le trou\n",
    "\n",
    "xmin, xmax = -0.2, 0. #On définit les limites en x du maillage\n",
    "zmin, zmax = 0., -0.3 #On définit les limites en z du maillage\n",
    "\n",
    "dx = 0.01 #On définit le pas de la maille\n",
    "\n",
    "xreg = np.arange(xmin, xmax + dx, dx, 'float') #On calcule les coordonées des mailles\n",
    "zreg = np.arange(zmin, zmax + dx, dx, 'float')\n",
    "\n",
    "mesh1 = pg.Mesh(2) #On crée un maillage vide \n",
    "mesh1.create2DGrid(xreg, zreg, 0) #On crée le maillage\n",
    "for c in mesh1.cells(): #On marque les cellules\n",
    "    c.setMarker(1)\n",
    "    \n",
    "print(mesh1) #On affiche le mombre de noeuds, cellules et lignes\n",
    "\n",
    "showMesh(mesh1, mesh1.cellMarkers(), label=\"Region marker\")"
   ]
  },
  {
   "cell_type": "code",
   "execution_count": null,
   "metadata": {},
   "outputs": [],
   "source": []
  }
 ],
 "metadata": {
  "kernelspec": {
   "display_name": "Python 3",
   "language": "python",
   "name": "python3"
  },
  "language_info": {
   "codemirror_mode": {
    "name": "ipython",
    "version": 3
   },
   "file_extension": ".py",
   "mimetype": "text/x-python",
   "name": "python",
   "nbconvert_exporter": "python",
   "pygments_lexer": "ipython3",
   "version": "3.6.3"
  }
 },
 "nbformat": 4,
 "nbformat_minor": 2
}
