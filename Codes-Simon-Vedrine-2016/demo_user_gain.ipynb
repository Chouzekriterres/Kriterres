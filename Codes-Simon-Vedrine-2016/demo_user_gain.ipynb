{
 "cells": [
  {
   "cell_type": "code",
   "execution_count": 2,
   "metadata": {
    "collapsed": true
   },
   "outputs": [],
   "source": [
    "from utils import *\n",
    "from processing_tools import *"
   ]
  },
  {
   "cell_type": "code",
   "execution_count": 5,
   "metadata": {
    "collapsed": false
   },
   "outputs": [],
   "source": [
    "data, dx_dt = read_hdf5(\"data/Bscan_merged.out\")"
   ]
  },
  {
   "cell_type": "code",
   "execution_count": 8,
   "metadata": {
    "collapsed": false
   },
   "outputs": [
    {
     "data": {
      "image/png": "[encoded data removed]",
      "text/plain": [
       "<matplotlib.figure.Figure at 0x7f775d848ac8>"
      ]
     },
     "metadata": {},
     "output_type": "display_data"
    },
    {
     "data": {
      "text/plain": [
       "array([[  0.00000000e+00,   0.00000000e+00,   0.00000000e+00, ...,\n",
       "          0.00000000e+00,   0.00000000e+00,   0.00000000e+00],\n",
       "       [  2.24555530e-03,   2.24555530e-03,   2.24555530e-03, ...,\n",
       "          2.24555530e-03,   2.24555530e-03,   2.24555530e-03],\n",
       "       [  3.14381126e-03,   3.14381126e-03,   3.14381126e-03, ...,\n",
       "          3.14381126e-03,   3.14381126e-03,   3.14381126e-03],\n",
       "       ..., \n",
       "       [ -9.01026757e+00,  -5.33284264e+02,   1.63238044e+02, ...,\n",
       "          8.35206671e+00,   5.85789254e+00,   1.63239432e+02],\n",
       "       [ -5.93815240e+00,  -5.50516463e+02,   1.56565721e+02, ...,\n",
       "          8.17194880e+00,   5.88777515e+00,   1.56566963e+02],\n",
       "       [ -2.68358687e+00,  -5.66673876e+02,   1.49997225e+02, ...,\n",
       "          7.98928513e+00,   5.91789613e+00,   1.49997929e+02]])"
      ]
     },
     "execution_count": 8,
     "metadata": {},
     "output_type": "execute_result"
    }
   ],
   "source": [
    "user_gain(data, dx_dt, 'linear', (2,0), (0,100), plot=True)"
   ]
  },
  {
   "cell_type": "code",
   "execution_count": null,
   "metadata": {
    "collapsed": true
   },
   "outputs": [],
   "source": []
  }
 ],
 "metadata": {
  "kernelspec": {
   "display_name": "Python 3",
   "language": "python",
   "name": "python3"
  },
  "language_info": {
   "codemirror_mode": {
    "name": "ipython",
    "version": 3
   },
   "file_extension": ".py",
   "mimetype": "text/x-python",
   "name": "python",
   "nbconvert_exporter": "python",
   "pygments_lexer": "ipython3",
   "version": "3.5.2"
  }
 },
 "nbformat": 4,
 "nbformat_minor": 2
}
